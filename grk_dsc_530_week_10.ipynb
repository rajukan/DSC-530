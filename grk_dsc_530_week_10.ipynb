{
 "cells": [
  {
   "cell_type": "markdown",
   "id": "f8d26d7c",
   "metadata": {},
   "source": [
    "  # DSC 530 Data Exploration and Analysis\n",
    "\n",
    "Assignment Week 10\n",
    "\n",
    "Author: Gyan Kannur"
   ]
  },
  {
   "cell_type": "markdown",
   "id": "87602ed7",
   "metadata": {},
   "source": [
    "# The linear model I used in this chapter has the obvious drawback that it is linear, and there is no reason to expect prices to change linearly over time. We can add flexibility to the model by adding a quadratic term, as we did in Section 11.3.\n",
    "\n",
    "Use a quadratic model to fit the time series of daily prices, and use the model to generate predictions. You will have to write a version of RunLinearModel that runs that quadratic model, but after that you should be able to reuse code from the chapter to generate predictions."
   ]
  },
  {
   "cell_type": "code",
   "id": "1e171b5b",
   "metadata": {
    "ExecuteTime": {
     "end_time": "2025-01-11T22:26:40.458537Z",
     "start_time": "2025-01-11T22:26:40.454468Z"
    }
   },
   "source": [
    "# import few libraries \n",
    "import numpy as np\n",
    "import pandas as pd\n",
    "import statsmodels.formula.api as smf"
   ],
   "outputs": [],
   "execution_count": 12
  },
  {
   "cell_type": "code",
   "id": "de9488d1",
   "metadata": {
    "ExecuteTime": {
     "end_time": "2025-01-11T22:26:40.807114Z",
     "start_time": "2025-01-11T22:26:40.515051Z"
    }
   },
   "source": [
    "# Load the data\n",
    "# The pandas library used to read a CSV file and create a DataFrame.\n",
    "# The 'date' column should be parsed as dates instead of treating them as strings.\n",
    "prices = pd.read_csv('mj-clean.csv', parse_dates=['date'])\n",
    "# set_index is a method of the DataFrame class in pandas that sets the specified column as the index of the DataFrame.\n",
    "# The 'date' is the column name to be set as the index.\n",
    "# inplace=True specifies to modify the DataFrame in place without creating a new object.\n",
    "prices.set_index('date', inplace=True)\n",
    "# ['price'] selects the column named 'price' from the DataFrame, creating a new DataFrame.\n",
    "prices = prices['price']"
   ],
   "outputs": [],
   "execution_count": 13
  },
  {
   "cell_type": "code",
   "id": "9748dede",
   "metadata": {
    "ExecuteTime": {
     "end_time": "2025-01-11T22:26:40.821969Z",
     "start_time": "2025-01-11T22:26:40.815375Z"
    }
   },
   "source": [
    "prices.head()"
   ],
   "outputs": [
    {
     "data": {
      "text/plain": [
       "date\n",
       "2010-09-02    100\n",
       "2010-09-02     60\n",
       "2010-09-02     60\n",
       "2010-09-02    400\n",
       "2010-09-02     55\n",
       "Name: price, dtype: int64"
      ]
     },
     "execution_count": 14,
     "metadata": {},
     "output_type": "execute_result"
    }
   ],
   "execution_count": 14
  },
  {
   "cell_type": "code",
   "id": "51c6db22",
   "metadata": {
    "ExecuteTime": {
     "end_time": "2025-01-11T22:26:42.546128Z",
     "start_time": "2025-01-11T22:26:40.822978Z"
    }
   },
   "source": [
    "# Add a quadratic time variable\n",
    "# Adding two new columns, 'time' and 'time2', to the existing prices DataFrame. \n",
    "# The 'time' column represents the number of days between each date in the index and the first date, \n",
    "# while the 'time2' column represents the square of the number of days. \n",
    "# This information allows for the inclusion of quadratic terms when fitting a quadratic model to the data\n",
    "prices = pd.concat([prices, prices.index.to_series().apply(lambda x: (x - prices.index[0]).days).rename('time'), \n",
    "                   prices.index.to_series().apply(lambda x: ((x - prices.index[0]).days) ** 2).rename('time2')], axis=1)"
   ],
   "outputs": [],
   "execution_count": 15
  },
  {
   "cell_type": "code",
   "id": "a043444a",
   "metadata": {
    "ExecuteTime": {
     "end_time": "2025-01-11T22:26:42.555724Z",
     "start_time": "2025-01-11T22:26:42.546128Z"
    }
   },
   "source": [
    "prices.head()"
   ],
   "outputs": [
    {
     "data": {
      "text/plain": [
       "            price  time  time2\n",
       "date                          \n",
       "2010-09-02    100     0      0\n",
       "2010-09-02     60     0      0\n",
       "2010-09-02     60     0      0\n",
       "2010-09-02    400     0      0\n",
       "2010-09-02     55     0      0"
      ],
      "text/html": [
       "<div>\n",
       "<style scoped>\n",
       "    .dataframe tbody tr th:only-of-type {\n",
       "        vertical-align: middle;\n",
       "    }\n",
       "\n",
       "    .dataframe tbody tr th {\n",
       "        vertical-align: top;\n",
       "    }\n",
       "\n",
       "    .dataframe thead th {\n",
       "        text-align: right;\n",
       "    }\n",
       "</style>\n",
       "<table border=\"1\" class=\"dataframe\">\n",
       "  <thead>\n",
       "    <tr style=\"text-align: right;\">\n",
       "      <th></th>\n",
       "      <th>price</th>\n",
       "      <th>time</th>\n",
       "      <th>time2</th>\n",
       "    </tr>\n",
       "    <tr>\n",
       "      <th>date</th>\n",
       "      <th></th>\n",
       "      <th></th>\n",
       "      <th></th>\n",
       "    </tr>\n",
       "  </thead>\n",
       "  <tbody>\n",
       "    <tr>\n",
       "      <th>2010-09-02</th>\n",
       "      <td>100</td>\n",
       "      <td>0</td>\n",
       "      <td>0</td>\n",
       "    </tr>\n",
       "    <tr>\n",
       "      <th>2010-09-02</th>\n",
       "      <td>60</td>\n",
       "      <td>0</td>\n",
       "      <td>0</td>\n",
       "    </tr>\n",
       "    <tr>\n",
       "      <th>2010-09-02</th>\n",
       "      <td>60</td>\n",
       "      <td>0</td>\n",
       "      <td>0</td>\n",
       "    </tr>\n",
       "    <tr>\n",
       "      <th>2010-09-02</th>\n",
       "      <td>400</td>\n",
       "      <td>0</td>\n",
       "      <td>0</td>\n",
       "    </tr>\n",
       "    <tr>\n",
       "      <th>2010-09-02</th>\n",
       "      <td>55</td>\n",
       "      <td>0</td>\n",
       "      <td>0</td>\n",
       "    </tr>\n",
       "  </tbody>\n",
       "</table>\n",
       "</div>"
      ]
     },
     "execution_count": 16,
     "metadata": {},
     "output_type": "execute_result"
    }
   ],
   "execution_count": 16
  },
  {
   "cell_type": "code",
   "id": "00e2dc30",
   "metadata": {
    "ExecuteTime": {
     "end_time": "2025-01-11T22:26:42.625640Z",
     "start_time": "2025-01-11T22:26:42.555800Z"
    }
   },
   "source": [
    "# Check the columns in the prices DataFrame\n",
    "# It helps verify the column names and ensure they match the expectations.\n",
    "print(prices.columns)\n",
    "\n",
    "# Select the appropriate column as the response variable\n",
    "# resp is assigned the column named 'price' from the prices DataFrame. \n",
    "# This column is chosen as the response variable or the dependent variable in the regression model. \n",
    "resp = prices['price']  # Replace 'prices' with the correct column name\n",
    "\n",
    "# Fit a quadratic model\n",
    "# The formula 'resp ~ time + time2' specifies the regression equation, \n",
    "# where 'resp' represents the response variable, 'time' and 'time2' are the predictors (columns created previously), \n",
    "# and data=prices indicates that the data for the regression model is available in the prices DataFrame.\n",
    "model = smf.ols('resp ~ time + time2', data=prices).fit()\n",
    "\n",
    "# Generate predictions using the model\n",
    "# The predict() method of the fitted model is used to generate predictions based on the regression model. \n",
    "# The prices DataFrame is passed as the argument to the predict() function to predict the response variable. \n",
    "# The resulting predictions are stored in the predictions variable and then printed.\n",
    "predictions = model.predict(prices)\n",
    "print(predictions)"
   ],
   "outputs": [
    {
     "name": "stdout",
     "output_type": "stream",
     "text": [
      "Index(['price', 'time', 'time2'], dtype='object')\n",
      "date\n",
      "2010-09-02    135.344543\n",
      "2010-09-02    135.344543\n",
      "2010-09-02    135.344543\n",
      "2010-09-02    135.344543\n",
      "2010-09-02    135.344543\n",
      "                 ...    \n",
      "2014-05-13    136.654595\n",
      "2014-05-13    136.654595\n",
      "2014-05-13    136.654595\n",
      "2014-05-13    136.654595\n",
      "2014-05-13    136.654595\n",
      "Length: 147070, dtype: float64\n"
     ]
    }
   ],
   "execution_count": 17
  },
  {
   "cell_type": "code",
   "id": "90c81460",
   "metadata": {
    "ExecuteTime": {
     "end_time": "2025-01-11T22:26:42.798553Z",
     "start_time": "2025-01-11T22:26:42.625640Z"
    }
   },
   "source": [
    "# Plot the predictions\n",
    "import matplotlib.pyplot as plt\n",
    "# plt.plot(prices)\n",
    "plt.plot(predictions)\n",
    "plt.xticks(rotation=30)\n",
    "plt.show()"
   ],
   "outputs": [
    {
     "data": {
      "text/plain": [
       "<Figure size 640x480 with 1 Axes>"
      ],
      "image/png": "[encoded data removed]"
     },
     "metadata": {},
     "output_type": "display_data"
    }
   ],
   "execution_count": 18
  },
  {
   "cell_type": "code",
   "id": "ad10ddd5",
   "metadata": {
    "ExecuteTime": {
     "end_time": "2025-01-11T22:26:42.803079Z",
     "start_time": "2025-01-11T22:26:42.799662Z"
    }
   },
   "source": [
    "# as time goes by, prices hit peak around second half of 2012 and then began to drop afterward."
   ],
   "outputs": [],
   "execution_count": 19
  },
  {
   "cell_type": "code",
   "id": "b2612da8",
   "metadata": {
    "ExecuteTime": {
     "end_time": "2025-01-11T22:26:42.807028Z",
     "start_time": "2025-01-11T22:26:42.803079Z"
    }
   },
   "source": [
    "# Exercise 12-2"
   ],
   "outputs": [],
   "execution_count": 20
  },
  {
   "cell_type": "markdown",
   "id": "3145e73d",
   "metadata": {},
   "source": [
    "# Write a definition for a class named SerialCorrelationTest that extends HypothesisTest from Section 9.2. It should take a series and a lag as data, compute the serial correlation of the series with the given lag, and then compute the p-value of the observed correlation.\n",
    "\n",
    "Use this class to test whether the serial correlation in raw price data is statistically significant. Also test the residuals of the linear model and (if you did the previous exercise), the quadratic model."
   ]
  },
  {
   "cell_type": "code",
   "id": "23704433",
   "metadata": {
    "ExecuteTime": {
     "end_time": "2025-01-11T22:26:42.812328Z",
     "start_time": "2025-01-11T22:26:42.807028Z"
    }
   },
   "source": [
    "# import few libraries\n",
    "import numpy as np\n",
    "from scipy.stats import pearsonr\n",
    "import numpy as np\n",
    "import thinkstats2\n",
    "import thinkplot\n",
    "import nsfg\n",
    "\n",
    "\n",
    "# declares the SerialCorrelationTest class and specifies that it inherits from the HypothesisTest class \n",
    "# defined in the ThinkStats2 library.\n",
    "class SerialCorrelationTest(thinkstats2.HypothesisTest):\n",
    "    # Initialize function (constructor) of the SerialCorrelationTest class. \n",
    "    # It takes two arguments: series and lag. \n",
    "    # The series argument represents the data series to be tested for serial correlation, \n",
    "    # and the lag argument represents the time lag used for computing the correlation.\n",
    "    def __init__(self, series, lag):\n",
    "        self.series = series\n",
    "        self.lag = lag\n",
    "        self.actual_corr = None\n",
    "    \n",
    "    # A function named test_statistic within the SerialCorrelationTest class. \n",
    "    # It calculates the test statistic, which is the correlation coefficient between the series \n",
    "    # and the same series shifted by the specified lag. \n",
    "    # It uses the pearsonr function from the scipy.stats module to calculate the correlation coefficient. \n",
    "    # The computed correlation coefficient is stored in self.actual_corr.\n",
    "    def test_statistic(self):\n",
    "        self.actual_corr, _ = pearsonr(self.series[:-self.lag], self.series[self.lag:])\n",
    "        return self.actual_corr\n",
    "    \n",
    "    # A function named p_value within the SerialCorrelationTest class. \n",
    "    # It calculates the p-value of the observed correlation coefficient. \n",
    "    # The method performs a permutation test by generating a distribution of test statistics (correlation coefficients) \n",
    "    # by resampling the data. The number of iterations is specified by the iters parameter, which defaults to 1000.\n",
    "    def p_value(self, iters=1000):\n",
    "        self.test_statistics = [self.test_statistic() for _ in range(iters)]\n",
    "        count = sum(1 for test_statistic in self.test_statistics if test_statistic >= self.actual_corr)\n",
    "        return count / iters\n"
   ],
   "outputs": [],
   "execution_count": 21
  },
  {
   "cell_type": "code",
   "id": "6e3e3b37",
   "metadata": {
    "ExecuteTime": {
     "end_time": "2025-01-11T22:26:51.005208Z",
     "start_time": "2025-01-11T22:26:42.812328Z"
    }
   },
   "source": [
    "# fit a linear model to the data\n",
    "# assigns the column named 'price' from the prices DataFrame to the resp variable. \n",
    "# It represents the response variable or the dependent variable for the linear model. \n",
    "resp = prices['price']  # Replace 'prices' with the correct column name\n",
    "# creates a linear model using ordinary least squares (OLS) regression. \n",
    "# The formula 'resp ~ time' specifies the regression equation, \n",
    "# where 'resp' represents the response variable and 'time' represents the predictor (column created previously). \n",
    "# data=prices indicates that the data for the regression model is available in the prices DataFrame.\n",
    "model = smf.ols('resp ~ time', data=prices)\n",
    "# fits the linear model using the fit() method of the model object. \n",
    "# It performs the regression analysis and estimates the coefficients and other model statistics.\n",
    "results = model.fit()\n",
    "results\n",
    "\n",
    "# extract the residuals\n",
    "# extracts the residuals from the linear regression model. \n",
    "# The residuals represent the differences between the observed values and the predicted values from the linear model.\n",
    "residuals = results.resid\n",
    "# print out\n",
    "print(residuals)\n",
    "\n",
    "# create a SerialCorrelationTest object and run the test\n",
    "# sets the lag value to 1, which represents the time lag used for computing the serial correlation.\n",
    "lag = 1\n",
    "# creates an instance of the SerialCorrelationTest class, passing the residuals and lag as arguments.\n",
    "test = SerialCorrelationTest(residuals, lag)\n",
    "# runs the serial correlation test on the residuals by calling the p_value() method of the SerialCorrelationTest object. \n",
    "# It computes the p-value of the observed serial correlation.\n",
    "pvalue = test.p_value()\n",
    "\n",
    "# # print the results\n",
    "print('Residuals of Linear Model')\n",
    "print(f'Lag: {lag}')\n",
    "print(f'Autocorrelation: {test.actual_corr:.3f}')\n",
    "print(f'p-value: {pvalue:.3f}')"
   ],
   "outputs": [
    {
     "name": "stdout",
     "output_type": "stream",
     "text": [
      "date\n",
      "2010-09-02    -36.456703\n",
      "2010-09-02    -76.456703\n",
      "2010-09-02    -76.456703\n",
      "2010-09-02    263.543297\n",
      "2010-09-02    -81.456703\n",
      "                 ...    \n",
      "2014-05-13      2.155467\n",
      "2014-05-13   -107.844533\n",
      "2014-05-13    -37.844533\n",
      "2014-05-13   -102.844533\n",
      "2014-05-13   -117.844533\n",
      "Length: 147070, dtype: float64\n",
      "Residuals of Linear Model\n",
      "Lag: 1\n",
      "Autocorrelation: 0.010\n",
      "p-value: 1.000\n"
     ]
    }
   ],
   "execution_count": 22
  },
  {
   "metadata": {},
   "cell_type": "markdown",
   "source": "# Conclusion",
   "id": "657e3a608042c114"
  },
  {
   "metadata": {},
   "cell_type": "markdown",
   "source": [
    "the autocorrelation of 0.010 suggests a weak positive linear relationship between adjacent residuals.\n",
    "the p-value of 1.000 indicates that the observed autocorrelation is not statistically significant."
   ],
   "id": "3b1952421c34d0e1"
  }
 ],
 "metadata": {
  "kernelspec": {
   "display_name": "Python 3 (ipykernel)",
   "language": "python",
   "name": "python3"
  },
  "language_info": {
   "codemirror_mode": {
    "name": "ipython",
    "version": 3
   },
   "file_extension": ".py",
   "mimetype": "text/x-python",
   "name": "python",
   "nbconvert_exporter": "python",
   "pygments_lexer": "ipython3",
   "version": "3.9.13"
  }
 },
 "nbformat": 4,
 "nbformat_minor": 5
}
