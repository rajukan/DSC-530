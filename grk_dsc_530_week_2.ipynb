{
 "cells": [
  {
   "cell_type": "code",
   "id": "af6da4c8",
   "metadata": {
    "ExecuteTime": {
     "end_time": "2024-11-24T04:56:33.390770Z",
     "start_time": "2024-11-24T04:56:33.382320Z"
    }
   },
   "source": [
    "print(\"Hello World! My name is Gyan Kannur!\")\n",
    "addtn = 5 + 7\n",
    "print(f'add 5 and 7 is {addtn}')\n",
    "count2 = 7 - 5\n",
    "print(f'subtract 7 from 5 is {count2}')\n",
    "print('multiply 2 and 3 is', 2*3)\n",
    "print('divide 2 out of 20 is', 20/2)\n",
    "str_1='Welcome to DSC'\n",
    "str_2='530'\n",
    "print(str_1+str_2)\n",
    "bag = ['apples','computer','luggage',30,]\n",
    "print(bag)\n",
    "bag.append('walmart')\n",
    "print(bag)\n",
    "dim_tuple = ('10mm','2 inches', 10, 2)\n",
    "print(dim_tuple)"
   ],
   "outputs": [
    {
     "name": "stdout",
     "output_type": "stream",
     "text": [
      "Hello World! My name is Gyan Kannur!\n",
      "add 5 and 7 is 12\n",
      "subtract 7 from 5 is 2\n",
      "multiply 2 and 3 is 6\n",
      "divide 2 out of 20 is 10.0\n",
      "Welcome to DSC530\n",
      "['apples', 'computer', 'luggage', 30]\n",
      "['apples', 'computer', 'luggage', 30, 'walmart']\n",
      "('10mm', '2 inches', 10, 2)\n"
     ]
    }
   ],
   "execution_count": 1
  },
  {
   "cell_type": "code",
   "execution_count": null,
   "id": "74458242",
   "metadata": {},
   "outputs": [],
   "source": []
  }
 ],
 "metadata": {
  "kernelspec": {
   "display_name": "Python 3 (ipykernel)",
   "language": "python",
   "name": "python3"
  },
  "language_info": {
   "codemirror_mode": {
    "name": "ipython",
    "version": 3
   },
   "file_extension": ".py",
   "mimetype": "text/x-python",
   "name": "python",
   "nbconvert_exporter": "python",
   "pygments_lexer": "ipython3",
   "version": "3.11.4"
  }
 },
 "nbformat": 4,
 "nbformat_minor": 5
}
