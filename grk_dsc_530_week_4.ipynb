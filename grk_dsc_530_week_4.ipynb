{
 "cells": [
  {
   "cell_type": "markdown",
   "metadata": {},
   "source": [
    "# Chapter 3 Assignments\n"
   ]
  },
  {
   "cell_type": "code",
   "metadata": {
    "ExecuteTime": {
     "end_time": "2024-11-24T05:23:50.107298Z",
     "start_time": "2024-11-24T05:23:50.098660Z"
    }
   },
   "source": [
    "from os.path import basename, exists\n",
    "\n",
    "\n",
    "def download(url):\n",
    "    filename = basename(url)\n",
    "    if not exists(filename):\n",
    "        from urllib.request import urlretrieve\n",
    "\n",
    "        local, _ = urlretrieve(url, filename)\n",
    "        print(\"Downloaded \" + local)\n",
    "\n",
    "\n",
    "download(\"https://github.com/AllenDowney/ThinkStats2/raw/master/code/thinkstats2.py\")\n",
    "download(\"https://github.com/AllenDowney/ThinkStats2/raw/master/code/thinkplot.py\")\n",
    "download(\"https://github.com/AllenDowney/ThinkStats2/raw/master/code/nsfg.py\")\n",
    "download(\"https://github.com/AllenDowney/ThinkStats2/raw/master/code/first.py\")\n",
    "\n",
    "\n",
    "download(\"https://github.com/AllenDowney/ThinkStats2/raw/master/code/2002FemPreg.dct\")\n",
    "download(\n",
    "    \"https://github.com/AllenDowney/ThinkStats2/raw/master/code/2002FemPreg.dat.gz\"\n",
    ")"
   ],
   "outputs": [],
   "execution_count": 3
  },
  {
   "cell_type": "code",
   "metadata": {
    "ExecuteTime": {
     "end_time": "2024-11-25T04:25:16.244294Z",
     "start_time": "2024-11-25T04:25:14.324953Z"
    }
   },
   "source": [
    "import nsfg\n",
    "import first\n",
    "import thinkstats2\n",
    "import thinkplot"
   ],
   "outputs": [],
   "execution_count": 2
  },
  {
   "cell_type": "code",
   "metadata": {
    "ExecuteTime": {
     "end_time": "2024-11-25T04:25:17.673260Z",
     "start_time": "2024-11-25T04:25:17.670235Z"
    }
   },
   "source": [
    "def PmfMean(pmf):\n",
    "   #probability Mass function\n",
    "    return sum(p * x for x, p in pmf.Items())"
   ],
   "outputs": [],
   "execution_count": 3
  },
  {
   "cell_type": "code",
   "metadata": {
    "ExecuteTime": {
     "end_time": "2024-11-25T04:25:20.038696Z",
     "start_time": "2024-11-25T04:25:20.034491Z"
    }
   },
   "source": [
    "def PmfVar(pmf, mu=None):\n",
    "    #Variance\n",
    "    if mu is None:\n",
    "        mu = PmfMean(pmf)\n",
    "\n",
    "    return sum(p * (x - mu) ** 2 for x, p in pmf.Items())"
   ],
   "outputs": [],
   "execution_count": 4
  },
  {
   "cell_type": "markdown",
   "metadata": {},
   "source": [
    "## Exercises 3.1"
   ]
  },
  {
   "cell_type": "markdown",
   "metadata": {},
   "source": [
    "**Exercise:** Something like the class size paradox appears if you survey children and ask how many children are in their family. Families with many children are more likely to appear in your sample, and families with no children have no chance to be in the sample.\n",
    "\n",
    "Use the NSFG respondent variable `numkdhh` to construct the actual distribution for the number of children under 18 in the respondents' households.\n",
    "\n",
    "Now compute the biased distribution we would see if we surveyed the children and asked them how many children under 18 (including themselves) are in their household.\n",
    "\n",
    "Plot the actual and biased distributions, and compute their means."
   ]
  },
  {
   "cell_type": "code",
   "metadata": {
    "ExecuteTime": {
     "end_time": "2024-11-24T05:23:52.265746Z",
     "start_time": "2024-11-24T05:23:52.260539Z"
    }
   },
   "source": [
    "download(\"https://github.com/AllenDowney/ThinkStats2/raw/master/code/2002FemResp.dct\")\n",
    "download(\"https://github.com/AllenDowney/ThinkStats2/raw/master/code/2002FemResp.dat.gz\")"
   ],
   "outputs": [],
   "execution_count": 8
  },
  {
   "cell_type": "code",
   "metadata": {
    "ExecuteTime": {
     "end_time": "2024-11-25T04:25:30.989459Z",
     "start_time": "2024-11-25T04:25:24.115286Z"
    }
   },
   "source": "resp = nsfg.ReadFemResp()",
   "outputs": [],
   "execution_count": 5
  },
  {
   "cell_type": "markdown",
   "metadata": {},
   "source": [
    "now calculate the actual distrubution, the mean and then plot the histogram of pmf"
   ]
  },
  {
   "cell_type": "code",
   "metadata": {
    "ExecuteTime": {
     "end_time": "2024-11-25T04:26:27.486648Z",
     "start_time": "2024-11-25T04:26:27.480091Z"
    }
   },
   "source": [
    "hist_pmf = thinkstats2.Pmf(resp.numkdhh, label='actual')\n",
    "\n",
    "print(f'Actual distribution mean {hist_pmf.Mean()}')"
   ],
   "outputs": [
    {
     "name": "stdout",
     "output_type": "stream",
     "text": [
      "Actual distribution mean 1.024205155043831\n"
     ]
    }
   ],
   "execution_count": 10
  },
  {
   "cell_type": "code",
   "metadata": {
    "ExecuteTime": {
     "end_time": "2024-11-25T04:26:33.077777Z",
     "start_time": "2024-11-25T04:26:32.882983Z"
    }
   },
   "source": [
    "thinkplot.Hist(hist_pmf)\n",
    "thinkplot.Config(xlabel=\"kid distribution\", ylabel=\"PMF\")"
   ],
   "outputs": [
    {
     "data": {
      "text/plain": [
       "<Figure size 640x480 with 1 Axes>"
      ],
      "image/png": "[encoded data removed]"
     },
     "metadata": {},
     "output_type": "display_data"
    }
   ],
   "execution_count": 11
  },
  {
   "cell_type": "markdown",
   "metadata": {},
   "source": [
    "now calculate the biased pmf, the mean of it and the difference between the mean between actual pmf and biased pmf mean"
   ]
  },
  {
   "cell_type": "code",
   "metadata": {
    "ExecuteTime": {
     "end_time": "2024-11-25T04:27:04.932116Z",
     "start_time": "2024-11-25T04:27:04.923156Z"
    }
   },
   "source": [
    "def BiasPmf(pmf, label):\n",
    "    new_pmf = pmf.Copy(label=label)\n",
    "\n",
    "    for x, p in hist_pmf.Items():\n",
    "        new_pmf.Mult(x, x)\n",
    "        \n",
    "    new_pmf.Normalize()\n",
    "    return new_pmf\n",
    "\n",
    "feedback_pmf = BiasPmf(hist_pmf, label='feedback')\n",
    "\n",
    "print('Feedback/Biased distribution mean is', feedback_pmf.Mean())\n",
    "print('Mean difference is', feedback_pmf.Mean()-hist_pmf.Mean())"
   ],
   "outputs": [
    {
     "name": "stdout",
     "output_type": "stream",
     "text": [
      "Feedback/Biased distribution mean is 2.403679100664282\n",
      "Mean difference is 1.3794739456204512\n"
     ]
    }
   ],
   "execution_count": 13
  },
  {
   "cell_type": "markdown",
   "metadata": {},
   "source": [
    "plot the bisaed pmf distribution"
   ]
  },
  {
   "cell_type": "code",
   "metadata": {
    "ExecuteTime": {
     "end_time": "2024-11-25T04:27:07.888551Z",
     "start_time": "2024-11-25T04:27:07.667247Z"
    }
   },
   "source": [
    "thinkplot.Hist(feedback_pmf)\n",
    "thinkplot.Config(xlabel=\" feedback kid distribution\", ylabel=\"PMF\")"
   ],
   "outputs": [
    {
     "data": {
      "text/plain": [
       "<Figure size 640x480 with 1 Axes>"
      ],
      "image/png": "[encoded data removed]"
     },
     "metadata": {},
     "output_type": "display_data"
    }
   ],
   "execution_count": 14
  },
  {
   "cell_type": "markdown",
   "metadata": {},
   "source": [
    "## Exercises 3.2"
   ]
  },
  {
   "cell_type": "markdown",
   "metadata": {},
   "source": [
    "Write functions called PmfMean and PmfVar that take a Pmf object and compute the mean and variance. To test these methods, check that they are consistent with the methods Mean and Var provided by Pmf."
   ]
  },
  {
   "cell_type": "markdown",
   "metadata": {},
   "source": [
    "The code is as below. **the result showed that the define functions returns the same results.**"
   ]
  },
  {
   "cell_type": "code",
   "metadata": {
    "ExecuteTime": {
     "end_time": "2024-11-25T04:27:13.580018Z",
     "start_time": "2024-11-25T04:27:13.571973Z"
    }
   },
   "source": [
    "def PmfMean(pmf):\n",
    "    NewMean = 0\n",
    "    for (i,p) in pmf.Items():\n",
    "        NewMean += i * p\n",
    "    print('pmf Mean from PmfMean function is', NewMean)\n",
    "\n",
    "def PmfVar(pmf, mean):\n",
    "    NewVar = 0\n",
    "    for (i,p) in pmf.Items():\n",
    "        NewVar += p*((i-mean)**2)\n",
    "    print('pmf Var from PmfVar function is', NewVar)\n",
    "\n",
    "def main(script):\n",
    "    data = [5, 2, 2, 1, 8]\n",
    "    pmf = thinkstats2.Pmf(data)\n",
    "    print(pmf)\n",
    "    print('pmf mean from Mean function is', pmf.Mean())\n",
    "    M=pmf.Mean()\n",
    "    PmfMean(pmf)\n",
    "    print()\n",
    "    print('pmf var from var function is', pmf.Var())\n",
    "    PmfVar(pmf, M)\n",
    "\n",
    "\n",
    "if __name__ == '__main__':\n",
    "   main('test')"
   ],
   "outputs": [
    {
     "name": "stdout",
     "output_type": "stream",
     "text": [
      "Pmf({5: 0.2, 2: 0.4, 1: 0.2, 8: 0.2})\n",
      "pmf mean from Mean function is 3.6\n",
      "pmf Mean from PmfMean function is 3.6\n",
      "\n",
      "pmf var from var function is 6.6400000000000015\n",
      "pmf Var from PmfVar function is 6.6400000000000015\n"
     ]
    }
   ],
   "execution_count": 15
  },
  {
   "cell_type": "markdown",
   "metadata": {},
   "source": [
    "## Exercises 4.1"
   ]
  },
  {
   "cell_type": "markdown",
   "metadata": {},
   "source": [
    "How much did you weigh at birth? If you don’t know, call your mother or someone else who knows. Using the NSFG data (all live births), compute the distribution of birth weights and use it to find your percentile rank. "
   ]
  },
  {
   "cell_type": "markdown",
   "metadata": {},
   "source": [
    "I am prematrued 3 months and suvived after 1 week of ICU. my mother said I am about 5.1 lb at birth. The code below shows my rank is 5.66%"
   ]
  },
  {
   "cell_type": "code",
   "metadata": {
    "ExecuteTime": {
     "end_time": "2024-11-25T04:28:20.332514Z",
     "start_time": "2024-11-25T04:28:18.927060Z"
    }
   },
   "source": [
    "import nsfg\n",
    "\n",
    "def read_data():\n",
    "    preg = nsfg.ReadFemPreg()\n",
    "\n",
    "    live = preg[preg.outcome == 1]\n",
    "    firsts = live[live.birthord == 1]\n",
    "    others = live[live.birthord != 1]\n",
    "\n",
    "    return live, firsts, others\n",
    "\n",
    "def main(script):\n",
    "    live, firsts, others = read_data()\n",
    "    first_cdf = thinkstats2.Cdf(firsts.totalwgt_lb, label='first')\n",
    "    my_rank = first_cdf.PercentileRank(5.1)\n",
    "    print(f'Xin birth rank is{my_rank}%')\n",
    "\n",
    "if __name__ == '__main__':\n",
    "    main('test')"
   ],
   "outputs": [
    {
     "name": "stdout",
     "output_type": "stream",
     "text": [
      "Xin birth rank is5.661242264496906%\n"
     ]
    },
    {
     "name": "stderr",
     "output_type": "stream",
     "text": [
      "C:\\Users\\gyanr\\gyan-python-workspace\\DSC-530\\nsfg.py:68: FutureWarning: A value is trying to be set on a copy of a DataFrame or Series through chained assignment using an inplace method.\n",
      "The behavior will change in pandas 3.0. This inplace method will never work because the intermediate object on which we are setting values always behaves as a copy.\n",
      "\n",
      "For example, when doing 'df[col].method(value, inplace=True)', try using 'df.method({col: value}, inplace=True)' or df[col] = df[col].method(value) instead, to perform the operation inplace on the original object.\n",
      "\n",
      "\n",
      "  df.birthwgt_lb.replace(na_vals, np.nan, inplace=True)\n",
      "C:\\Users\\gyanr\\gyan-python-workspace\\DSC-530\\nsfg.py:69: FutureWarning: A value is trying to be set on a copy of a DataFrame or Series through chained assignment using an inplace method.\n",
      "The behavior will change in pandas 3.0. This inplace method will never work because the intermediate object on which we are setting values always behaves as a copy.\n",
      "\n",
      "For example, when doing 'df[col].method(value, inplace=True)', try using 'df.method({col: value}, inplace=True)' or df[col] = df[col].method(value) instead, to perform the operation inplace on the original object.\n",
      "\n",
      "\n",
      "  df.birthwgt_oz.replace(na_vals, np.nan, inplace=True)\n",
      "C:\\Users\\gyanr\\gyan-python-workspace\\DSC-530\\nsfg.py:70: FutureWarning: A value is trying to be set on a copy of a DataFrame or Series through chained assignment using an inplace method.\n",
      "The behavior will change in pandas 3.0. This inplace method will never work because the intermediate object on which we are setting values always behaves as a copy.\n",
      "\n",
      "For example, when doing 'df[col].method(value, inplace=True)', try using 'df.method({col: value}, inplace=True)' or df[col] = df[col].method(value) instead, to perform the operation inplace on the original object.\n",
      "\n",
      "\n",
      "  df.hpagelb.replace(na_vals, np.nan, inplace=True)\n",
      "C:\\Users\\gyanr\\gyan-python-workspace\\DSC-530\\nsfg.py:72: FutureWarning: A value is trying to be set on a copy of a DataFrame or Series through chained assignment using an inplace method.\n",
      "The behavior will change in pandas 3.0. This inplace method will never work because the intermediate object on which we are setting values always behaves as a copy.\n",
      "\n",
      "For example, when doing 'df[col].method(value, inplace=True)', try using 'df.method({col: value}, inplace=True)' or df[col] = df[col].method(value) instead, to perform the operation inplace on the original object.\n",
      "\n",
      "\n",
      "  df.babysex.replace([7, 9], np.nan, inplace=True)\n",
      "C:\\Users\\gyanr\\gyan-python-workspace\\DSC-530\\nsfg.py:73: FutureWarning: A value is trying to be set on a copy of a DataFrame or Series through chained assignment using an inplace method.\n",
      "The behavior will change in pandas 3.0. This inplace method will never work because the intermediate object on which we are setting values always behaves as a copy.\n",
      "\n",
      "For example, when doing 'df[col].method(value, inplace=True)', try using 'df.method({col: value}, inplace=True)' or df[col] = df[col].method(value) instead, to perform the operation inplace on the original object.\n",
      "\n",
      "\n",
      "  df.nbrnaliv.replace([9], np.nan, inplace=True)\n"
     ]
    }
   ],
   "execution_count": 18
  },
  {
   "cell_type": "markdown",
   "metadata": {},
   "source": [
    "## Exercises 4.2"
   ]
  },
  {
   "cell_type": "markdown",
   "metadata": {},
   "source": [
    "Generate 1000 numbers from random.random and plot their PMF and CDF. Is the distribution uniform?"
   ]
  },
  {
   "cell_type": "markdown",
   "metadata": {},
   "source": [
    "The code is as below. since all number are unique and appear once, so the PMF looks like a solid block, but CDF is a staright line so **the distribution is uniform.**"
   ]
  },
  {
   "cell_type": "code",
   "metadata": {
    "ExecuteTime": {
     "end_time": "2024-11-25T04:28:30.342747Z",
     "start_time": "2024-11-25T04:28:29.905885Z"
    }
   },
   "source": [
    "import random\n",
    "import thinkplot\n",
    "import matplotlib.pyplot as plt\n",
    "\n",
    "Random_Test =[]\n",
    "\n",
    "for i in range(0,1000):\n",
    "    x = random.random()*10\n",
    "    Random_Test.append(x)\n",
    "\n",
    "pmf = thinkstats2.Pmf(Random_Test)\n",
    "plt.hist(Random_Test, bins = 100, density=True)\n",
    "plt.xlabel(\"Numbers\")\n",
    "plt.ylabel(\"Density\")\n",
    "plt.title = ('Histogram')\n",
    "plt.show()\n",
    "\n",
    "thinkplot.Pmf(pmf)\n",
    "thinkplot.show(xlabel=\"random number\", ylabel=\"PMF\")\n",
    "\n",
    "random_cdf = thinkstats2.Cdf(Random_Test)\n",
    "thinkplot.Cdf(random_cdf)\n",
    "thinkplot.Show(xlabel='random number', ylabel='CDF')"
   ],
   "outputs": [
    {
     "data": {
      "text/plain": [
       "<Figure size 640x480 with 1 Axes>"
      ],
      "image/png": "[encoded data removed]"
     },
     "metadata": {},
     "output_type": "display_data"
    },
    {
     "data": {
      "text/plain": [
       "<Figure size 640x480 with 1 Axes>"
      ],
      "image/png": "[encoded data removed]"
     },
     "metadata": {},
     "output_type": "display_data"
    },
    {
     "data": {
      "text/plain": [
       "<Figure size 800x600 with 1 Axes>"
      ],
      "image/png": "[encoded data removed]"
     },
     "metadata": {},
     "output_type": "display_data"
    },
    {
     "data": {
      "text/plain": [
       "<Figure size 800x600 with 0 Axes>"
      ]
     },
     "metadata": {},
     "output_type": "display_data"
    }
   ],
   "execution_count": 19
  },
  {
   "cell_type": "code",
   "metadata": {
    "ExecuteTime": {
     "end_time": "2024-11-24T05:24:01.079149Z",
     "start_time": "2024-11-24T05:24:01.077380Z"
    }
   },
   "source": [],
   "outputs": [],
   "execution_count": 16
  }
 ],
 "metadata": {
  "kernelspec": {
   "display_name": "Python 3 (ipykernel)",
   "language": "python",
   "name": "python3"
  },
  "language_info": {
   "codemirror_mode": {
    "name": "ipython",
    "version": 3
   },
   "file_extension": ".py",
   "mimetype": "text/x-python",
   "name": "python",
   "nbconvert_exporter": "python",
   "pygments_lexer": "ipython3",
   "version": "3.11.4"
  }
 },
 "nbformat": 4,
 "nbformat_minor": 1
}
